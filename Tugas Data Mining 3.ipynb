{
  "cells": [
    {
      "cell_type": "markdown",
      "metadata": {
        "id": "view-in-github",
        "colab_type": "text"
      },
      "source": [
        "<a href=\"https://colab.research.google.com/github/sabilarizki/Preprocessing-Data/blob/main/Tugas%20Data%20Mining%203.ipynb\" target=\"_parent\"><img src=\"https://colab.research.google.com/assets/colab-badge.svg\" alt=\"Open In Colab\"/></a>"
      ]
    },
    {
      "cell_type": "code",
      "source": [
        "import numpy as np\n",
        "import matplotlib.pyplot as plt\n",
        "import pandas as pd\n",
        "\n",
        "dataset =pd.read_csv('Customers.csv')\n",
        "x = dataset.iloc[:, :-1].values\n",
        "y = dataset.iloc[:, -1].values\n",
        "print(str(x)+\"\\n\")\n",
        "print(y)"
      ],
      "metadata": {
        "id": "e85EDjJmoqz2",
        "outputId": "c74376a2-a291-464b-b017-bba126a57189",
        "colab": {
          "base_uri": "https://localhost:8080/"
        }
      },
      "execution_count": null,
      "outputs": [
        {
          "output_type": "stream",
          "name": "stdout",
          "text": [
            "[[1 'Male' 19 ... 39 'Healthcare' 1]\n",
            " [2 'Male' 21 ... 81 'Engineer' 3]\n",
            " [3 'Female' 20 ... 6 'Engineer' 1]\n",
            " ...\n",
            " [1998 'Male' 87 ... 14 'Healthcare' 9]\n",
            " [1999 'Male' 77 ... 4 'Executive' 7]\n",
            " [2000 'Male' 90 ... 52 'Entertainment' 5]]\n",
            "\n",
            "[4 3 1 ... 2 2 2]\n"
          ]
        }
      ]
    },
    {
      "cell_type": "code",
      "source": [
        "from sklearn.impute import SimpleImputer\n",
        "imputer = SimpleImputer (missing_values=np.nan, strategy='mean')\n",
        "imputer.fit(x[:, 4:5])\n",
        "x[:, 4:5] = imputer.transform(x[:, 4:5])\n",
        "\n",
        "print(x)"
      ],
      "metadata": {
        "id": "xj6cMMm0sy2J",
        "outputId": "4e66fcfc-4ad0-4de8-c331-cd2d8a532f59",
        "colab": {
          "base_uri": "https://localhost:8080/"
        }
      },
      "execution_count": null,
      "outputs": [
        {
          "output_type": "stream",
          "name": "stdout",
          "text": [
            "[[1 'Male' 19 ... 39.0 'Healthcare' 1]\n",
            " [2 'Male' 21 ... 81.0 'Engineer' 3]\n",
            " [3 'Female' 20 ... 6.0 'Engineer' 1]\n",
            " ...\n",
            " [1998 'Male' 87 ... 14.0 'Healthcare' 9]\n",
            " [1999 'Male' 77 ... 4.0 'Executive' 7]\n",
            " [2000 'Male' 90 ... 52.0 'Entertainment' 5]]\n"
          ]
        }
      ]
    },
    {
      "cell_type": "code",
      "source": [
        "from sklearn.compose import ColumnTransformer\n",
        "from sklearn.preprocessing import OneHotEncoder\n",
        "ct = ColumnTransformer (transformers=[ ('encoder' , OneHotEncoder(sparse_output=False), [0])], remainder='passthrough')\n",
        "X = np.array(ct.fit_transform(x))\n",
        "\n",
        "print(X)"
      ],
      "metadata": {
        "id": "VyklyL2svEs0",
        "outputId": "23508927-22fe-4da3-b624-46d4e62e0c03",
        "colab": {
          "base_uri": "https://localhost:8080/"
        }
      },
      "execution_count": null,
      "outputs": [
        {
          "output_type": "stream",
          "name": "stdout",
          "text": [
            "[[1.0 0.0 0.0 ... 39.0 'Healthcare' 1]\n",
            " [0.0 1.0 0.0 ... 81.0 'Engineer' 3]\n",
            " [0.0 0.0 1.0 ... 6.0 'Engineer' 1]\n",
            " ...\n",
            " [0.0 0.0 0.0 ... 14.0 'Healthcare' 9]\n",
            " [0.0 0.0 0.0 ... 4.0 'Executive' 7]\n",
            " [0.0 0.0 0.0 ... 52.0 'Entertainment' 5]]\n"
          ]
        }
      ]
    },
    {
      "cell_type": "code",
      "source": [
        "from sklearn.preprocessing import LabelEncoder\n",
        "le = LabelEncoder()\n",
        "y = le.fit_transform(y)\n",
        "\n",
        "print(y)"
      ],
      "metadata": {
        "id": "5Up2IRH8vJZv",
        "outputId": "94029e8e-a457-4eeb-bb58-bce5c7a00916",
        "colab": {
          "base_uri": "https://localhost:8080/"
        }
      },
      "execution_count": null,
      "outputs": [
        {
          "output_type": "stream",
          "name": "stdout",
          "text": [
            "[3 2 0 ... 1 1 1]\n"
          ]
        }
      ]
    },
    {
      "cell_type": "code",
      "source": [
        "from sklearn.model_selection import train_test_split\n",
        "X_train, X_test, y_train, y_test = train_test_split(X, y, test_size = 0.2, random_state = 1)\n",
        "\n",
        "print(X_train)"
      ],
      "metadata": {
        "id": "2ie-uAAivZQM",
        "outputId": "c4e53a41-425a-4dd6-856c-ff4db9c5ce73",
        "colab": {
          "base_uri": "https://localhost:8080/"
        }
      },
      "execution_count": null,
      "outputs": [
        {
          "output_type": "stream",
          "name": "stdout",
          "text": [
            "[[1.0 0.0 0.0 ... 39.0 'Healthcare' 1]\n",
            " [0.0 0.0 0.0 ... 42.0 'Homemaker' 8]\n",
            " [0.0 0.0 0.0 ... 11.0 'Lawyer' 1]\n",
            " ...\n",
            " [0.0 0.0 0.0 ... 79.0 nan 7]\n",
            " [0.0 0.0 0.0 ... 34.0 'Healthcare' 0]\n",
            " [0.0 0.0 0.0 ... 88.0 'Executive' 0]]\n"
          ]
        }
      ]
    },
    {
      "cell_type": "code",
      "source": [
        "print(X_test)"
      ],
      "metadata": {
        "id": "Zfc9CgVovfUT",
        "outputId": "c9fc0204-2d30-47dd-8277-52d58a3ab3fe",
        "colab": {
          "base_uri": "https://localhost:8080/"
        }
      },
      "execution_count": null,
      "outputs": [
        {
          "output_type": "stream",
          "name": "stdout",
          "text": [
            "[[0.0 0.0 0.0 ... 45.0 'Doctor' 0]\n",
            " [0.0 0.0 0.0 ... 31.0 'Lawyer' 0]\n",
            " [0.0 0.0 0.0 ... 43.0 'Executive' 8]\n",
            " ...\n",
            " [0.0 0.0 0.0 ... 97.0 'Artist' 1]\n",
            " [0.0 0.0 0.0 ... 92.0 'Doctor' 6]\n",
            " [0.0 0.0 0.0 ... 70.0 'Executive' 5]]\n"
          ]
        }
      ]
    },
    {
      "cell_type": "code",
      "source": [
        "print(y_train)"
      ],
      "metadata": {
        "id": "edXis_R6viL4",
        "outputId": "21c0adef-d5f9-4410-a6d7-a3881cfed675",
        "colab": {
          "base_uri": "https://localhost:8080/"
        }
      },
      "execution_count": null,
      "outputs": [
        {
          "output_type": "stream",
          "name": "stdout",
          "text": [
            "[3 1 3 ... 4 3 0]\n"
          ]
        }
      ]
    },
    {
      "cell_type": "code",
      "source": [
        "print(y_test)"
      ],
      "metadata": {
        "id": "A5Qduu4GvonT",
        "outputId": "7cedb8cc-1e8b-4288-dcf9-c187471b2e2b",
        "colab": {
          "base_uri": "https://localhost:8080/"
        }
      },
      "execution_count": null,
      "outputs": [
        {
          "output_type": "stream",
          "name": "stdout",
          "text": [
            "[5 2 3 3 4 2 1 0 2 3 1 4 0 6 2 4 2 2 3 2 3 1 0 3 6 0 4 2 4 1 1 1 2 0 2 6 2\n",
            " 3 3 6 1 2 3 6 6 3 3 2 3 5 1 2 2 1 3 1 2 6 2 3 1 2 3 2 2 3 4 1 1 5 2 2 0 6\n",
            " 3 3 6 6 4 6 0 2 2 6 3 4 2 3 0 4 0 3 0 4 0 6 5 3 1 1 2 4 1 0 0 5 0 4 6 4 3\n",
            " 5 4 6 5 2 0 6 3 2 5 2 6 5 0 6 2 5 3 3 2 6 4 2 4 5 5 4 5 1 1 2 5 5 0 4 5 3\n",
            " 4 0 0 0 4 1 4 5 2 6 4 1 4 6 0 1 3 0 4 3 1 4 1 0 5 2 3 4 1 2 4 4 1 6 6 2 3\n",
            " 1 1 6 1 5 5 6 6 6 2 2 2 0 1 5 1 2 4 5 4 3 3 6 2 5 3 1 7 4 1 1 5 6 5 5 4 3\n",
            " 0 1 1 4 2 3 2 2 0 4 4 3 4 2 6 2 5 3 2 5 4 2 2 1 4 2 5 5 2 3 6 2 5 1 2 3 2\n",
            " 7 5 6 1 1 6 3 4 6 5 3 4 5 5 4 5 1 1 1 2 3 1 6 0 2 1 2 6 3 0 5 2 0 3 5 2 1\n",
            " 5 6 1 4 2 6 2 1 3 5 4 2 3 4 1 0 3 4 4 3 4 5 3 2 0 1 2 6 0 3 0 2 0 4 1 5 2\n",
            " 1 4 4 2 0 2 6 0 5 4 0 2 5 1 1 3 0 1 4 0 1 5 1 4 5 4 5 1 6 4 5 3 1 0 2 6 2\n",
            " 3 0 3 3 3 3 2 1 0 3 1 2 5 6 0 6 0 0 4 4 2 5 6 2 6 0 3 1 4 6]\n"
          ]
        }
      ]
    },
    {
      "cell_type": "code",
      "source": [
        "from sklearn. preprocessing import StandardScaler\n",
        "sc = StandardScaler()\n",
        "X_train[:,:5] = sc.fit_transform(X_train[:,:5])\n",
        "X_test[:,:5] = sc.transform(X_test[:,:5])\n",
        "\n",
        "print(X_train)"
      ],
      "metadata": {
        "id": "h9hBHqxMvqQE",
        "outputId": "fc3b8daa-fd06-484c-9963-7a7a7fa6fffd",
        "colab": {
          "base_uri": "https://localhost:8080/"
        }
      },
      "execution_count": null,
      "outputs": [
        {
          "output_type": "stream",
          "name": "stdout",
          "text": [
            "[[39.987498046263994 -0.025007816164017545 -0.02500781616401762 ... 39.0\n",
            "  'Healthcare' 1]\n",
            " [-0.02500781616401751 -0.025007816164017545 -0.02500781616401762 ...\n",
            "  42.0 'Homemaker' 8]\n",
            " [-0.02500781616401751 -0.025007816164017545 -0.02500781616401762 ...\n",
            "  11.0 'Lawyer' 1]\n",
            " ...\n",
            " [-0.02500781616401751 -0.025007816164017545 -0.02500781616401762 ...\n",
            "  79.0 nan 7]\n",
            " [-0.02500781616401751 -0.025007816164017545 -0.02500781616401762 ...\n",
            "  34.0 'Healthcare' 0]\n",
            " [-0.02500781616401751 -0.025007816164017545 -0.02500781616401762 ...\n",
            "  88.0 'Executive' 0]]\n"
          ]
        }
      ]
    },
    {
      "cell_type": "code",
      "source": [
        "print(X_test)"
      ],
      "metadata": {
        "id": "kRQIvJqovzdY",
        "outputId": "1e471fdc-2161-4ace-9ab0-7a4c21cadf6d",
        "colab": {
          "base_uri": "https://localhost:8080/"
        }
      },
      "execution_count": null,
      "outputs": [
        {
          "output_type": "stream",
          "name": "stdout",
          "text": [
            "[[-0.02500781616401751 -0.025007816164017545 -0.02500781616401762 ...\n",
            "  45.0 'Doctor' 0]\n",
            " [-0.02500781616401751 -0.025007816164017545 -0.02500781616401762 ...\n",
            "  31.0 'Lawyer' 0]\n",
            " [-0.02500781616401751 -0.025007816164017545 -0.02500781616401762 ...\n",
            "  43.0 'Executive' 8]\n",
            " ...\n",
            " [-0.02500781616401751 -0.025007816164017545 -0.02500781616401762 ...\n",
            "  97.0 'Artist' 1]\n",
            " [-0.02500781616401751 -0.025007816164017545 -0.02500781616401762 ...\n",
            "  92.0 'Doctor' 6]\n",
            " [-0.02500781616401751 -0.025007816164017545 -0.02500781616401762 ...\n",
            "  70.0 'Executive' 5]]\n"
          ]
        }
      ]
    }
  ],
  "metadata": {
    "colab": {
      "provenance": [],
      "include_colab_link": true
    },
    "kernelspec": {
      "display_name": "Python 3",
      "name": "python3"
    }
  },
  "nbformat": 4,
  "nbformat_minor": 0
}